{
 "cells": [
  {
   "cell_type": "code",
   "execution_count": 8,
   "id": "139f46e3-670e-406b-9402-8b595e74845b",
   "metadata": {},
   "outputs": [],
   "source": [
    "import pandas as pd\n",
    "import seaborn as srn\n",
    "import statistics as sts\n",
    "import numpy as np\n",
    "import matplotlib.pyplot as plt\n",
    "from sklearn.preprocessing import LabelEncoder"
   ]
  },
  {
   "cell_type": "code",
   "execution_count": 6,
   "id": "4b11104d-018c-4f60-9df7-f99e8d79effa",
   "metadata": {},
   "outputs": [
    {
     "data": {
      "text/html": [
       "<div>\n",
       "<style scoped>\n",
       "    .dataframe tbody tr th:only-of-type {\n",
       "        vertical-align: middle;\n",
       "    }\n",
       "\n",
       "    .dataframe tbody tr th {\n",
       "        vertical-align: top;\n",
       "    }\n",
       "\n",
       "    .dataframe thead th {\n",
       "        text-align: right;\n",
       "    }\n",
       "</style>\n",
       "<table border=\"1\" class=\"dataframe\">\n",
       "  <thead>\n",
       "    <tr style=\"text-align: right;\">\n",
       "      <th></th>\n",
       "      <th>Age</th>\n",
       "      <th>Gender</th>\n",
       "      <th>Region</th>\n",
       "      <th>Smoking_History</th>\n",
       "      <th>Diabetes_History</th>\n",
       "      <th>Hypertension_History</th>\n",
       "      <th>Cholesterol_Level</th>\n",
       "      <th>Physical_Activity</th>\n",
       "      <th>Diet_Quality</th>\n",
       "      <th>Alcohol_Consumption</th>\n",
       "      <th>...</th>\n",
       "      <th>Extra_Column_6</th>\n",
       "      <th>Extra_Column_7</th>\n",
       "      <th>Extra_Column_8</th>\n",
       "      <th>Extra_Column_9</th>\n",
       "      <th>Extra_Column_10</th>\n",
       "      <th>Extra_Column_11</th>\n",
       "      <th>Extra_Column_12</th>\n",
       "      <th>Extra_Column_13</th>\n",
       "      <th>Extra_Column_14</th>\n",
       "      <th>Extra_Column_15</th>\n",
       "    </tr>\n",
       "  </thead>\n",
       "  <tbody>\n",
       "    <tr>\n",
       "      <th>0</th>\n",
       "      <td>56</td>\n",
       "      <td>Male</td>\n",
       "      <td>Urban</td>\n",
       "      <td>Yes</td>\n",
       "      <td>No</td>\n",
       "      <td>No</td>\n",
       "      <td>186.400209</td>\n",
       "      <td>Moderate</td>\n",
       "      <td>Poor</td>\n",
       "      <td>Low</td>\n",
       "      <td>...</td>\n",
       "      <td>0.007901</td>\n",
       "      <td>0.794583</td>\n",
       "      <td>0.290779</td>\n",
       "      <td>0.497193</td>\n",
       "      <td>0.521995</td>\n",
       "      <td>0.799657</td>\n",
       "      <td>0.722398</td>\n",
       "      <td>0.148739</td>\n",
       "      <td>0.834010</td>\n",
       "      <td>0.061632</td>\n",
       "    </tr>\n",
       "    <tr>\n",
       "      <th>1</th>\n",
       "      <td>69</td>\n",
       "      <td>Male</td>\n",
       "      <td>Urban</td>\n",
       "      <td>No</td>\n",
       "      <td>No</td>\n",
       "      <td>No</td>\n",
       "      <td>185.136747</td>\n",
       "      <td>Low</td>\n",
       "      <td>Good</td>\n",
       "      <td>Low</td>\n",
       "      <td>...</td>\n",
       "      <td>0.083933</td>\n",
       "      <td>0.688951</td>\n",
       "      <td>0.830164</td>\n",
       "      <td>0.634490</td>\n",
       "      <td>0.302043</td>\n",
       "      <td>0.043683</td>\n",
       "      <td>0.451668</td>\n",
       "      <td>0.878671</td>\n",
       "      <td>0.535602</td>\n",
       "      <td>0.617825</td>\n",
       "    </tr>\n",
       "    <tr>\n",
       "      <th>2</th>\n",
       "      <td>46</td>\n",
       "      <td>Male</td>\n",
       "      <td>Rural</td>\n",
       "      <td>Yes</td>\n",
       "      <td>No</td>\n",
       "      <td>No</td>\n",
       "      <td>210.696611</td>\n",
       "      <td>Low</td>\n",
       "      <td>Average</td>\n",
       "      <td>Moderate</td>\n",
       "      <td>...</td>\n",
       "      <td>0.227205</td>\n",
       "      <td>0.496344</td>\n",
       "      <td>0.752107</td>\n",
       "      <td>0.181501</td>\n",
       "      <td>0.629180</td>\n",
       "      <td>0.018276</td>\n",
       "      <td>0.063227</td>\n",
       "      <td>0.146512</td>\n",
       "      <td>0.997296</td>\n",
       "      <td>0.974455</td>\n",
       "    </tr>\n",
       "    <tr>\n",
       "      <th>3</th>\n",
       "      <td>32</td>\n",
       "      <td>Female</td>\n",
       "      <td>Urban</td>\n",
       "      <td>No</td>\n",
       "      <td>No</td>\n",
       "      <td>No</td>\n",
       "      <td>211.165478</td>\n",
       "      <td>Moderate</td>\n",
       "      <td>Good</td>\n",
       "      <td>High</td>\n",
       "      <td>...</td>\n",
       "      <td>0.403182</td>\n",
       "      <td>0.741409</td>\n",
       "      <td>0.223968</td>\n",
       "      <td>0.329314</td>\n",
       "      <td>0.143191</td>\n",
       "      <td>0.907781</td>\n",
       "      <td>0.542322</td>\n",
       "      <td>0.922461</td>\n",
       "      <td>0.626217</td>\n",
       "      <td>0.228606</td>\n",
       "    </tr>\n",
       "    <tr>\n",
       "      <th>4</th>\n",
       "      <td>60</td>\n",
       "      <td>Female</td>\n",
       "      <td>Rural</td>\n",
       "      <td>No</td>\n",
       "      <td>No</td>\n",
       "      <td>No</td>\n",
       "      <td>223.814253</td>\n",
       "      <td>High</td>\n",
       "      <td>Good</td>\n",
       "      <td>High</td>\n",
       "      <td>...</td>\n",
       "      <td>0.689787</td>\n",
       "      <td>0.904574</td>\n",
       "      <td>0.757098</td>\n",
       "      <td>0.337761</td>\n",
       "      <td>0.362375</td>\n",
       "      <td>0.728552</td>\n",
       "      <td>0.176699</td>\n",
       "      <td>0.484749</td>\n",
       "      <td>0.312091</td>\n",
       "      <td>0.452809</td>\n",
       "    </tr>\n",
       "  </tbody>\n",
       "</table>\n",
       "<p>5 rows × 32 columns</p>\n",
       "</div>"
      ],
      "text/plain": [
       "   Age  Gender Region Smoking_History Diabetes_History Hypertension_History  \\\n",
       "0   56    Male  Urban             Yes               No                   No   \n",
       "1   69    Male  Urban              No               No                   No   \n",
       "2   46    Male  Rural             Yes               No                   No   \n",
       "3   32  Female  Urban              No               No                   No   \n",
       "4   60  Female  Rural              No               No                   No   \n",
       "\n",
       "   Cholesterol_Level Physical_Activity Diet_Quality Alcohol_Consumption  ...  \\\n",
       "0         186.400209          Moderate         Poor                 Low  ...   \n",
       "1         185.136747               Low         Good                 Low  ...   \n",
       "2         210.696611               Low      Average            Moderate  ...   \n",
       "3         211.165478          Moderate         Good                High  ...   \n",
       "4         223.814253              High         Good                High  ...   \n",
       "\n",
       "   Extra_Column_6  Extra_Column_7  Extra_Column_8  Extra_Column_9  \\\n",
       "0        0.007901        0.794583        0.290779        0.497193   \n",
       "1        0.083933        0.688951        0.830164        0.634490   \n",
       "2        0.227205        0.496344        0.752107        0.181501   \n",
       "3        0.403182        0.741409        0.223968        0.329314   \n",
       "4        0.689787        0.904574        0.757098        0.337761   \n",
       "\n",
       "   Extra_Column_10 Extra_Column_11 Extra_Column_12  Extra_Column_13  \\\n",
       "0         0.521995        0.799657        0.722398         0.148739   \n",
       "1         0.302043        0.043683        0.451668         0.878671   \n",
       "2         0.629180        0.018276        0.063227         0.146512   \n",
       "3         0.143191        0.907781        0.542322         0.922461   \n",
       "4         0.362375        0.728552        0.176699         0.484749   \n",
       "\n",
       "   Extra_Column_14  Extra_Column_15  \n",
       "0         0.834010         0.061632  \n",
       "1         0.535602         0.617825  \n",
       "2         0.997296         0.974455  \n",
       "3         0.626217         0.228606  \n",
       "4         0.312091         0.452809  \n",
       "\n",
       "[5 rows x 32 columns]"
      ]
     },
     "execution_count": 6,
     "metadata": {},
     "output_type": "execute_result"
    }
   ],
   "source": [
    "#importar dados\n",
    "dataset = pd.read_csv(\"japan_heart_attack_dataset.csv\", sep=\",\")\n",
    "#visualizar dados importados\n",
    "dataset.head()"
   ]
  },
  {
   "cell_type": "code",
   "execution_count": 366,
   "id": "b598ad26-9198-4ade-b0c1-08c8a154e45f",
   "metadata": {},
   "outputs": [
    {
     "data": {
      "text/plain": [
       "(30000, 32)"
      ]
     },
     "execution_count": 366,
     "metadata": {},
     "output_type": "execute_result"
    }
   ],
   "source": [
    "#tamanho\n",
    "dataset.shape"
   ]
  },
  {
   "cell_type": "code",
   "execution_count": 374,
   "id": "4f255ad7-3005-461b-9e0d-f96ed81be767",
   "metadata": {},
   "outputs": [
    {
     "data": {
      "text/html": [
       "<div>\n",
       "<style scoped>\n",
       "    .dataframe tbody tr th:only-of-type {\n",
       "        vertical-align: middle;\n",
       "    }\n",
       "\n",
       "    .dataframe tbody tr th {\n",
       "        vertical-align: top;\n",
       "    }\n",
       "\n",
       "    .dataframe thead th {\n",
       "        text-align: right;\n",
       "    }\n",
       "</style>\n",
       "<table border=\"1\" class=\"dataframe\">\n",
       "  <thead>\n",
       "    <tr style=\"text-align: right;\">\n",
       "      <th></th>\n",
       "      <th>Age</th>\n",
       "      <th>Gender</th>\n",
       "      <th>Region</th>\n",
       "      <th>Smoking_History</th>\n",
       "      <th>Diabetes_History</th>\n",
       "      <th>Hypertension_History</th>\n",
       "      <th>Cholesterol_Level</th>\n",
       "      <th>Physical_Activity</th>\n",
       "      <th>Diet_Quality</th>\n",
       "      <th>Alcohol_Consumption</th>\n",
       "      <th>...</th>\n",
       "      <th>Extra_Column_6</th>\n",
       "      <th>Extra_Column_7</th>\n",
       "      <th>Extra_Column_8</th>\n",
       "      <th>Extra_Column_9</th>\n",
       "      <th>Extra_Column_10</th>\n",
       "      <th>Extra_Column_11</th>\n",
       "      <th>Extra_Column_12</th>\n",
       "      <th>Extra_Column_13</th>\n",
       "      <th>Extra_Column_14</th>\n",
       "      <th>Extra_Column_15</th>\n",
       "    </tr>\n",
       "  </thead>\n",
       "  <tbody>\n",
       "    <tr>\n",
       "      <th>0</th>\n",
       "      <td>56</td>\n",
       "      <td>Male</td>\n",
       "      <td>Urban</td>\n",
       "      <td>Yes</td>\n",
       "      <td>No</td>\n",
       "      <td>No</td>\n",
       "      <td>186.400209</td>\n",
       "      <td>Moderate</td>\n",
       "      <td>Poor</td>\n",
       "      <td>Low</td>\n",
       "      <td>...</td>\n",
       "      <td>0.007901</td>\n",
       "      <td>0.794583</td>\n",
       "      <td>0.290779</td>\n",
       "      <td>0.497193</td>\n",
       "      <td>0.521995</td>\n",
       "      <td>0.799657</td>\n",
       "      <td>0.722398</td>\n",
       "      <td>0.148739</td>\n",
       "      <td>0.834010</td>\n",
       "      <td>0.061632</td>\n",
       "    </tr>\n",
       "    <tr>\n",
       "      <th>1</th>\n",
       "      <td>69</td>\n",
       "      <td>Male</td>\n",
       "      <td>Urban</td>\n",
       "      <td>No</td>\n",
       "      <td>No</td>\n",
       "      <td>No</td>\n",
       "      <td>185.136747</td>\n",
       "      <td>Low</td>\n",
       "      <td>Good</td>\n",
       "      <td>Low</td>\n",
       "      <td>...</td>\n",
       "      <td>0.083933</td>\n",
       "      <td>0.688951</td>\n",
       "      <td>0.830164</td>\n",
       "      <td>0.634490</td>\n",
       "      <td>0.302043</td>\n",
       "      <td>0.043683</td>\n",
       "      <td>0.451668</td>\n",
       "      <td>0.878671</td>\n",
       "      <td>0.535602</td>\n",
       "      <td>0.617825</td>\n",
       "    </tr>\n",
       "    <tr>\n",
       "      <th>2</th>\n",
       "      <td>46</td>\n",
       "      <td>Male</td>\n",
       "      <td>Rural</td>\n",
       "      <td>Yes</td>\n",
       "      <td>No</td>\n",
       "      <td>No</td>\n",
       "      <td>210.696611</td>\n",
       "      <td>Low</td>\n",
       "      <td>Average</td>\n",
       "      <td>Moderate</td>\n",
       "      <td>...</td>\n",
       "      <td>0.227205</td>\n",
       "      <td>0.496344</td>\n",
       "      <td>0.752107</td>\n",
       "      <td>0.181501</td>\n",
       "      <td>0.629180</td>\n",
       "      <td>0.018276</td>\n",
       "      <td>0.063227</td>\n",
       "      <td>0.146512</td>\n",
       "      <td>0.997296</td>\n",
       "      <td>0.974455</td>\n",
       "    </tr>\n",
       "    <tr>\n",
       "      <th>3</th>\n",
       "      <td>32</td>\n",
       "      <td>Female</td>\n",
       "      <td>Urban</td>\n",
       "      <td>No</td>\n",
       "      <td>No</td>\n",
       "      <td>No</td>\n",
       "      <td>211.165478</td>\n",
       "      <td>Moderate</td>\n",
       "      <td>Good</td>\n",
       "      <td>High</td>\n",
       "      <td>...</td>\n",
       "      <td>0.403182</td>\n",
       "      <td>0.741409</td>\n",
       "      <td>0.223968</td>\n",
       "      <td>0.329314</td>\n",
       "      <td>0.143191</td>\n",
       "      <td>0.907781</td>\n",
       "      <td>0.542322</td>\n",
       "      <td>0.922461</td>\n",
       "      <td>0.626217</td>\n",
       "      <td>0.228606</td>\n",
       "    </tr>\n",
       "    <tr>\n",
       "      <th>4</th>\n",
       "      <td>60</td>\n",
       "      <td>Female</td>\n",
       "      <td>Rural</td>\n",
       "      <td>No</td>\n",
       "      <td>No</td>\n",
       "      <td>No</td>\n",
       "      <td>223.814253</td>\n",
       "      <td>High</td>\n",
       "      <td>Good</td>\n",
       "      <td>High</td>\n",
       "      <td>...</td>\n",
       "      <td>0.689787</td>\n",
       "      <td>0.904574</td>\n",
       "      <td>0.757098</td>\n",
       "      <td>0.337761</td>\n",
       "      <td>0.362375</td>\n",
       "      <td>0.728552</td>\n",
       "      <td>0.176699</td>\n",
       "      <td>0.484749</td>\n",
       "      <td>0.312091</td>\n",
       "      <td>0.452809</td>\n",
       "    </tr>\n",
       "  </tbody>\n",
       "</table>\n",
       "<p>5 rows × 32 columns</p>\n",
       "</div>"
      ],
      "text/plain": [
       "   Age  Gender Region Smoking_History Diabetes_History Hypertension_History  \\\n",
       "0   56    Male  Urban             Yes               No                   No   \n",
       "1   69    Male  Urban              No               No                   No   \n",
       "2   46    Male  Rural             Yes               No                   No   \n",
       "3   32  Female  Urban              No               No                   No   \n",
       "4   60  Female  Rural              No               No                   No   \n",
       "\n",
       "   Cholesterol_Level Physical_Activity Diet_Quality Alcohol_Consumption  ...  \\\n",
       "0         186.400209          Moderate         Poor                 Low  ...   \n",
       "1         185.136747               Low         Good                 Low  ...   \n",
       "2         210.696611               Low      Average            Moderate  ...   \n",
       "3         211.165478          Moderate         Good                High  ...   \n",
       "4         223.814253              High         Good                High  ...   \n",
       "\n",
       "   Extra_Column_6  Extra_Column_7  Extra_Column_8  Extra_Column_9  \\\n",
       "0        0.007901        0.794583        0.290779        0.497193   \n",
       "1        0.083933        0.688951        0.830164        0.634490   \n",
       "2        0.227205        0.496344        0.752107        0.181501   \n",
       "3        0.403182        0.741409        0.223968        0.329314   \n",
       "4        0.689787        0.904574        0.757098        0.337761   \n",
       "\n",
       "   Extra_Column_10 Extra_Column_11 Extra_Column_12  Extra_Column_13  \\\n",
       "0         0.521995        0.799657        0.722398         0.148739   \n",
       "1         0.302043        0.043683        0.451668         0.878671   \n",
       "2         0.629180        0.018276        0.063227         0.146512   \n",
       "3         0.143191        0.907781        0.542322         0.922461   \n",
       "4         0.362375        0.728552        0.176699         0.484749   \n",
       "\n",
       "   Extra_Column_14  Extra_Column_15  \n",
       "0         0.834010         0.061632  \n",
       "1         0.535602         0.617825  \n",
       "2         0.997296         0.974455  \n",
       "3         0.626217         0.228606  \n",
       "4         0.312091         0.452809  \n",
       "\n",
       "[5 rows x 32 columns]"
      ]
     },
     "execution_count": 374,
     "metadata": {},
     "output_type": "execute_result"
    }
   ],
   "source": [
    "#visualizar\n",
    "dataset.head()"
   ]
  },
  {
   "cell_type": "code",
   "execution_count": 11,
   "id": "467d70d3-9e68-4c8f-a8f9-adc1162921e5",
   "metadata": {},
   "outputs": [],
   "source": [
    "dataset.columns = ['Idade', 'sexo', 'regiao', 'historia_de_tabagismo', 'historia_de_diabetes', 'história_de_hipertensao', \n",
    "                   'nível_de_colesterol', 'atividade_física', 'qualidade_da_dieta', 'consumo_de_álcool', \n",
    "                   'coluna_extra1', 'coluna_extra2', 'coluna_extra3', 'coluna_extra4', 'coluna_extra5', \n",
    "                   'coluna_extra6', 'coluna_extra7', 'coluna_extra8', 'coluna_extra9', 'coluna_extra10', \n",
    "                   'coluna_extra11', 'coluna_extra12', 'coluna_extra13', 'coluna_extra14', 'coluna_extra15', \n",
    "                   'coluna_extra16', 'coluna_extra17', 'coluna_extra18', 'coluna_extra19', 'coluna_extra20', \n",
    "                   'coluna_extra21', 'coluna_extra22']\n"
   ]
  },
  {
   "cell_type": "code",
   "execution_count": 12,
   "id": "99db325a-71d6-4e51-b708-73d6e5b23d0a",
   "metadata": {},
   "outputs": [
    {
     "data": {
      "text/html": [
       "<div>\n",
       "<style scoped>\n",
       "    .dataframe tbody tr th:only-of-type {\n",
       "        vertical-align: middle;\n",
       "    }\n",
       "\n",
       "    .dataframe tbody tr th {\n",
       "        vertical-align: top;\n",
       "    }\n",
       "\n",
       "    .dataframe thead th {\n",
       "        text-align: right;\n",
       "    }\n",
       "</style>\n",
       "<table border=\"1\" class=\"dataframe\">\n",
       "  <thead>\n",
       "    <tr style=\"text-align: right;\">\n",
       "      <th></th>\n",
       "      <th>Idade</th>\n",
       "      <th>sexo</th>\n",
       "      <th>regiao</th>\n",
       "      <th>historia_de_tabagismo</th>\n",
       "      <th>historia_de_diabetes</th>\n",
       "      <th>história_de_hipertensao</th>\n",
       "      <th>nível_de_colesterol</th>\n",
       "      <th>atividade_física</th>\n",
       "      <th>qualidade_da_dieta</th>\n",
       "      <th>consumo_de_álcool</th>\n",
       "      <th>...</th>\n",
       "      <th>coluna_extra13</th>\n",
       "      <th>coluna_extra14</th>\n",
       "      <th>coluna_extra15</th>\n",
       "      <th>coluna_extra16</th>\n",
       "      <th>coluna_extra17</th>\n",
       "      <th>coluna_extra18</th>\n",
       "      <th>coluna_extra19</th>\n",
       "      <th>coluna_extra20</th>\n",
       "      <th>coluna_extra21</th>\n",
       "      <th>coluna_extra22</th>\n",
       "    </tr>\n",
       "  </thead>\n",
       "  <tbody>\n",
       "    <tr>\n",
       "      <th>0</th>\n",
       "      <td>56</td>\n",
       "      <td>Male</td>\n",
       "      <td>Urban</td>\n",
       "      <td>Yes</td>\n",
       "      <td>No</td>\n",
       "      <td>No</td>\n",
       "      <td>186.400209</td>\n",
       "      <td>Moderate</td>\n",
       "      <td>Poor</td>\n",
       "      <td>Low</td>\n",
       "      <td>...</td>\n",
       "      <td>0.007901</td>\n",
       "      <td>0.794583</td>\n",
       "      <td>0.290779</td>\n",
       "      <td>0.497193</td>\n",
       "      <td>0.521995</td>\n",
       "      <td>0.799657</td>\n",
       "      <td>0.722398</td>\n",
       "      <td>0.148739</td>\n",
       "      <td>0.834010</td>\n",
       "      <td>0.061632</td>\n",
       "    </tr>\n",
       "    <tr>\n",
       "      <th>1</th>\n",
       "      <td>69</td>\n",
       "      <td>Male</td>\n",
       "      <td>Urban</td>\n",
       "      <td>No</td>\n",
       "      <td>No</td>\n",
       "      <td>No</td>\n",
       "      <td>185.136747</td>\n",
       "      <td>Low</td>\n",
       "      <td>Good</td>\n",
       "      <td>Low</td>\n",
       "      <td>...</td>\n",
       "      <td>0.083933</td>\n",
       "      <td>0.688951</td>\n",
       "      <td>0.830164</td>\n",
       "      <td>0.634490</td>\n",
       "      <td>0.302043</td>\n",
       "      <td>0.043683</td>\n",
       "      <td>0.451668</td>\n",
       "      <td>0.878671</td>\n",
       "      <td>0.535602</td>\n",
       "      <td>0.617825</td>\n",
       "    </tr>\n",
       "    <tr>\n",
       "      <th>2</th>\n",
       "      <td>46</td>\n",
       "      <td>Male</td>\n",
       "      <td>Rural</td>\n",
       "      <td>Yes</td>\n",
       "      <td>No</td>\n",
       "      <td>No</td>\n",
       "      <td>210.696611</td>\n",
       "      <td>Low</td>\n",
       "      <td>Average</td>\n",
       "      <td>Moderate</td>\n",
       "      <td>...</td>\n",
       "      <td>0.227205</td>\n",
       "      <td>0.496344</td>\n",
       "      <td>0.752107</td>\n",
       "      <td>0.181501</td>\n",
       "      <td>0.629180</td>\n",
       "      <td>0.018276</td>\n",
       "      <td>0.063227</td>\n",
       "      <td>0.146512</td>\n",
       "      <td>0.997296</td>\n",
       "      <td>0.974455</td>\n",
       "    </tr>\n",
       "    <tr>\n",
       "      <th>3</th>\n",
       "      <td>32</td>\n",
       "      <td>Female</td>\n",
       "      <td>Urban</td>\n",
       "      <td>No</td>\n",
       "      <td>No</td>\n",
       "      <td>No</td>\n",
       "      <td>211.165478</td>\n",
       "      <td>Moderate</td>\n",
       "      <td>Good</td>\n",
       "      <td>High</td>\n",
       "      <td>...</td>\n",
       "      <td>0.403182</td>\n",
       "      <td>0.741409</td>\n",
       "      <td>0.223968</td>\n",
       "      <td>0.329314</td>\n",
       "      <td>0.143191</td>\n",
       "      <td>0.907781</td>\n",
       "      <td>0.542322</td>\n",
       "      <td>0.922461</td>\n",
       "      <td>0.626217</td>\n",
       "      <td>0.228606</td>\n",
       "    </tr>\n",
       "    <tr>\n",
       "      <th>4</th>\n",
       "      <td>60</td>\n",
       "      <td>Female</td>\n",
       "      <td>Rural</td>\n",
       "      <td>No</td>\n",
       "      <td>No</td>\n",
       "      <td>No</td>\n",
       "      <td>223.814253</td>\n",
       "      <td>High</td>\n",
       "      <td>Good</td>\n",
       "      <td>High</td>\n",
       "      <td>...</td>\n",
       "      <td>0.689787</td>\n",
       "      <td>0.904574</td>\n",
       "      <td>0.757098</td>\n",
       "      <td>0.337761</td>\n",
       "      <td>0.362375</td>\n",
       "      <td>0.728552</td>\n",
       "      <td>0.176699</td>\n",
       "      <td>0.484749</td>\n",
       "      <td>0.312091</td>\n",
       "      <td>0.452809</td>\n",
       "    </tr>\n",
       "    <tr>\n",
       "      <th>5</th>\n",
       "      <td>25</td>\n",
       "      <td>Female</td>\n",
       "      <td>Rural</td>\n",
       "      <td>No</td>\n",
       "      <td>No</td>\n",
       "      <td>No</td>\n",
       "      <td>220.340040</td>\n",
       "      <td>Low</td>\n",
       "      <td>Good</td>\n",
       "      <td>High</td>\n",
       "      <td>...</td>\n",
       "      <td>0.448359</td>\n",
       "      <td>0.369056</td>\n",
       "      <td>0.195817</td>\n",
       "      <td>0.395948</td>\n",
       "      <td>0.835430</td>\n",
       "      <td>0.003596</td>\n",
       "      <td>0.941448</td>\n",
       "      <td>0.875736</td>\n",
       "      <td>0.718697</td>\n",
       "      <td>0.008745</td>\n",
       "    </tr>\n",
       "    <tr>\n",
       "      <th>6</th>\n",
       "      <td>78</td>\n",
       "      <td>Male</td>\n",
       "      <td>Urban</td>\n",
       "      <td>No</td>\n",
       "      <td>Yes</td>\n",
       "      <td>Yes</td>\n",
       "      <td>176.534859</td>\n",
       "      <td>High</td>\n",
       "      <td>Poor</td>\n",
       "      <td>High</td>\n",
       "      <td>...</td>\n",
       "      <td>0.662466</td>\n",
       "      <td>0.708291</td>\n",
       "      <td>0.120272</td>\n",
       "      <td>0.072657</td>\n",
       "      <td>0.342915</td>\n",
       "      <td>0.070717</td>\n",
       "      <td>0.328066</td>\n",
       "      <td>0.706978</td>\n",
       "      <td>0.370973</td>\n",
       "      <td>0.128143</td>\n",
       "    </tr>\n",
       "    <tr>\n",
       "      <th>7</th>\n",
       "      <td>38</td>\n",
       "      <td>Female</td>\n",
       "      <td>Urban</td>\n",
       "      <td>Yes</td>\n",
       "      <td>No</td>\n",
       "      <td>No</td>\n",
       "      <td>203.443219</td>\n",
       "      <td>High</td>\n",
       "      <td>Poor</td>\n",
       "      <td>NaN</td>\n",
       "      <td>...</td>\n",
       "      <td>0.771378</td>\n",
       "      <td>0.877390</td>\n",
       "      <td>0.659746</td>\n",
       "      <td>0.261927</td>\n",
       "      <td>0.432525</td>\n",
       "      <td>0.873889</td>\n",
       "      <td>0.729492</td>\n",
       "      <td>0.137948</td>\n",
       "      <td>0.116143</td>\n",
       "      <td>0.036758</td>\n",
       "    </tr>\n",
       "    <tr>\n",
       "      <th>8</th>\n",
       "      <td>56</td>\n",
       "      <td>Male</td>\n",
       "      <td>Rural</td>\n",
       "      <td>No</td>\n",
       "      <td>No</td>\n",
       "      <td>Yes</td>\n",
       "      <td>214.271573</td>\n",
       "      <td>Moderate</td>\n",
       "      <td>Average</td>\n",
       "      <td>Moderate</td>\n",
       "      <td>...</td>\n",
       "      <td>0.075977</td>\n",
       "      <td>0.200385</td>\n",
       "      <td>0.457953</td>\n",
       "      <td>0.260502</td>\n",
       "      <td>0.359755</td>\n",
       "      <td>0.224467</td>\n",
       "      <td>0.753343</td>\n",
       "      <td>0.238852</td>\n",
       "      <td>0.463294</td>\n",
       "      <td>0.866367</td>\n",
       "    </tr>\n",
       "    <tr>\n",
       "      <th>9</th>\n",
       "      <td>75</td>\n",
       "      <td>Male</td>\n",
       "      <td>Urban</td>\n",
       "      <td>No</td>\n",
       "      <td>No</td>\n",
       "      <td>No</td>\n",
       "      <td>183.983885</td>\n",
       "      <td>Moderate</td>\n",
       "      <td>Good</td>\n",
       "      <td>Moderate</td>\n",
       "      <td>...</td>\n",
       "      <td>0.562768</td>\n",
       "      <td>0.013282</td>\n",
       "      <td>0.084734</td>\n",
       "      <td>0.836812</td>\n",
       "      <td>0.550383</td>\n",
       "      <td>0.271020</td>\n",
       "      <td>0.565794</td>\n",
       "      <td>0.159043</td>\n",
       "      <td>0.701713</td>\n",
       "      <td>0.223031</td>\n",
       "    </tr>\n",
       "  </tbody>\n",
       "</table>\n",
       "<p>10 rows × 32 columns</p>\n",
       "</div>"
      ],
      "text/plain": [
       "   Idade    sexo regiao historia_de_tabagismo historia_de_diabetes  \\\n",
       "0     56    Male  Urban                   Yes                   No   \n",
       "1     69    Male  Urban                    No                   No   \n",
       "2     46    Male  Rural                   Yes                   No   \n",
       "3     32  Female  Urban                    No                   No   \n",
       "4     60  Female  Rural                    No                   No   \n",
       "5     25  Female  Rural                    No                   No   \n",
       "6     78    Male  Urban                    No                  Yes   \n",
       "7     38  Female  Urban                   Yes                   No   \n",
       "8     56    Male  Rural                    No                   No   \n",
       "9     75    Male  Urban                    No                   No   \n",
       "\n",
       "  história_de_hipertensao  nível_de_colesterol atividade_física  \\\n",
       "0                      No           186.400209         Moderate   \n",
       "1                      No           185.136747              Low   \n",
       "2                      No           210.696611              Low   \n",
       "3                      No           211.165478         Moderate   \n",
       "4                      No           223.814253             High   \n",
       "5                      No           220.340040              Low   \n",
       "6                     Yes           176.534859             High   \n",
       "7                      No           203.443219             High   \n",
       "8                     Yes           214.271573         Moderate   \n",
       "9                      No           183.983885         Moderate   \n",
       "\n",
       "  qualidade_da_dieta consumo_de_álcool  ...  coluna_extra13  coluna_extra14  \\\n",
       "0               Poor               Low  ...        0.007901        0.794583   \n",
       "1               Good               Low  ...        0.083933        0.688951   \n",
       "2            Average          Moderate  ...        0.227205        0.496344   \n",
       "3               Good              High  ...        0.403182        0.741409   \n",
       "4               Good              High  ...        0.689787        0.904574   \n",
       "5               Good              High  ...        0.448359        0.369056   \n",
       "6               Poor              High  ...        0.662466        0.708291   \n",
       "7               Poor               NaN  ...        0.771378        0.877390   \n",
       "8            Average          Moderate  ...        0.075977        0.200385   \n",
       "9               Good          Moderate  ...        0.562768        0.013282   \n",
       "\n",
       "   coluna_extra15  coluna_extra16  coluna_extra17 coluna_extra18  \\\n",
       "0        0.290779        0.497193        0.521995       0.799657   \n",
       "1        0.830164        0.634490        0.302043       0.043683   \n",
       "2        0.752107        0.181501        0.629180       0.018276   \n",
       "3        0.223968        0.329314        0.143191       0.907781   \n",
       "4        0.757098        0.337761        0.362375       0.728552   \n",
       "5        0.195817        0.395948        0.835430       0.003596   \n",
       "6        0.120272        0.072657        0.342915       0.070717   \n",
       "7        0.659746        0.261927        0.432525       0.873889   \n",
       "8        0.457953        0.260502        0.359755       0.224467   \n",
       "9        0.084734        0.836812        0.550383       0.271020   \n",
       "\n",
       "  coluna_extra19  coluna_extra20  coluna_extra21  coluna_extra22  \n",
       "0       0.722398        0.148739        0.834010        0.061632  \n",
       "1       0.451668        0.878671        0.535602        0.617825  \n",
       "2       0.063227        0.146512        0.997296        0.974455  \n",
       "3       0.542322        0.922461        0.626217        0.228606  \n",
       "4       0.176699        0.484749        0.312091        0.452809  \n",
       "5       0.941448        0.875736        0.718697        0.008745  \n",
       "6       0.328066        0.706978        0.370973        0.128143  \n",
       "7       0.729492        0.137948        0.116143        0.036758  \n",
       "8       0.753343        0.238852        0.463294        0.866367  \n",
       "9       0.565794        0.159043        0.701713        0.223031  \n",
       "\n",
       "[10 rows x 32 columns]"
      ]
     },
     "execution_count": 12,
     "metadata": {},
     "output_type": "execute_result"
    }
   ],
   "source": [
    "dataset.head(10)"
   ]
  },
  {
   "cell_type": "code",
   "execution_count": 386,
   "id": "20887499-c446-448d-aef4-29d7ca648154",
   "metadata": {},
   "outputs": [
    {
     "data": {
      "text/plain": [
       "regiao\n",
       "Rural     8939\n",
       "Urban    21061\n",
       "dtype: int64"
      ]
     },
     "execution_count": 386,
     "metadata": {},
     "output_type": "execute_result"
    }
   ],
   "source": [
    "#explorando dados categoricos\n",
    "#regiao\n",
    "agrupado = dataset.groupby(['regiao']).size()\n",
    "agrupado"
   ]
  },
  {
   "cell_type": "code",
   "execution_count": 388,
   "id": "d27ba76b-0a5b-4148-921c-9e930956190f",
   "metadata": {},
   "outputs": [
    {
     "data": {
      "text/plain": [
       "<Axes: xlabel='regiao'>"
      ]
     },
     "execution_count": 388,
     "metadata": {},
     "output_type": "execute_result"
    },
    {
     "data": {
      "image/png": "[encoded data removed]",
      "text/plain": [
       "<Figure size 900x500 with 1 Axes>"
      ]
     },
     "metadata": {
      "needs_background": "light"
     },
     "output_type": "display_data"
    }
   ],
   "source": [
    "agrupado.plot.bar(color= 'gray')"
   ]
  },
  {
   "cell_type": "code",
   "execution_count": 333,
   "id": "2062d45b-6273-4950-9c10-ac4cfe4bd27d",
   "metadata": {},
   "outputs": [],
   "source": [
    "#concluímos nesse gráfico que a maioria dos casos de ataque cardíaco no Japão nessa base de dados ocorre mais em zona urbana."
   ]
  },
  {
   "cell_type": "code",
   "execution_count": 392,
   "id": "0631f5f1-eadc-45e0-8dfd-8459e952d677",
   "metadata": {},
   "outputs": [
    {
     "data": {
      "text/plain": [
       "tabagismo_historia\n",
       "No     21003\n",
       "Yes     8997\n",
       "dtype: int64"
      ]
     },
     "execution_count": 392,
     "metadata": {},
     "output_type": "execute_result"
    }
   ],
   "source": [
    "#historico de tabagismo\n",
    "agrupado = dataset.groupby(['tabagismo_historia']).size()\n",
    "agrupado"
   ]
  },
  {
   "cell_type": "code",
   "execution_count": 394,
   "id": "65fbcbe5-1c2f-47a8-9024-e813340722f2",
   "metadata": {},
   "outputs": [
    {
     "data": {
      "text/plain": [
       "<Axes: xlabel='tabagismo_historia'>"
      ]
     },
     "execution_count": 394,
     "metadata": {},
     "output_type": "execute_result"
    },
    {
     "data": {
      "image/png": "[encoded data removed]",
      "text/plain": [
       "<Figure size 900x500 with 1 Axes>"
      ]
     },
     "metadata": {
      "needs_background": "light"
     },
     "output_type": "display_data"
    }
   ],
   "source": [
    "agrupado.plot.bar(color='gray')"
   ]
  },
  {
   "cell_type": "code",
   "execution_count": 331,
   "id": "66cf9800-0f96-4097-ab33-d5cdefe5b0b5",
   "metadata": {},
   "outputs": [],
   "source": [
    "#concluímos nesse gráfico que a maioria dos casos de ataque cardíaco no Japão nessa base de dados não tem histórico de fumar."
   ]
  },
  {
   "cell_type": "code",
   "execution_count": 101,
   "id": "8db96519-3729-4427-b8da-75cf6cdd8dda",
   "metadata": {},
   "outputs": [
    {
     "data": {
      "text/plain": [
       "historia_de_diabetes\n",
       "No     23903\n",
       "Yes     6097\n",
       "dtype: int64"
      ]
     },
     "execution_count": 101,
     "metadata": {},
     "output_type": "execute_result"
    }
   ],
   "source": [
    "#historia de diabetes\n",
    "agrupado = dataset.groupby(['historia_de_diabetes']).size()\n",
    "agrupado"
   ]
  },
  {
   "cell_type": "code",
   "execution_count": 103,
   "id": "f0a0f35e-7a7b-4025-9eb7-bb25e2f319b1",
   "metadata": {},
   "outputs": [
    {
     "data": {
      "text/plain": [
       "<Axes: xlabel='historia_de_diabetes'>"
      ]
     },
     "execution_count": 103,
     "metadata": {},
     "output_type": "execute_result"
    },
    {
     "data": {
      "image/png": "[encoded data removed]",
      "text/plain": [
       "<Figure size 640x480 with 1 Axes>"
      ]
     },
     "metadata": {},
     "output_type": "display_data"
    }
   ],
   "source": [
    "agrupado.plot.bar(color='gray')"
   ]
  },
  {
   "cell_type": "code",
   "execution_count": 335,
   "id": "5200bb77-8139-4c12-bc64-90f8c802ed47",
   "metadata": {},
   "outputs": [],
   "source": [
    "#concluímos nesse gráfico que a maioria dos casos de ataque cardíaco no Japão nessa base de dados não tem histórico de diabetes."
   ]
  },
  {
   "cell_type": "code",
   "execution_count": 105,
   "id": "0de24949-8d26-4bb3-b0cb-d7ea05c13333",
   "metadata": {},
   "outputs": [
    {
     "data": {
      "text/plain": [
       "história_de_hipertensao\n",
       "No     22546\n",
       "Yes     7454\n",
       "dtype: int64"
      ]
     },
     "execution_count": 105,
     "metadata": {},
     "output_type": "execute_result"
    }
   ],
   "source": [
    "#história de hipertensao\n",
    "agrupado = dataset.groupby(['história_de_hipertensao']).size()\n",
    "agrupado"
   ]
  },
  {
   "cell_type": "code",
   "execution_count": 107,
   "id": "89fc458a-202c-444f-8cf6-1b5c2da4dd63",
   "metadata": {},
   "outputs": [
    {
     "data": {
      "text/plain": [
       "história_de_hipertensao\n",
       "No     22546\n",
       "Yes     7454\n",
       "dtype: int64"
      ]
     },
     "execution_count": 107,
     "metadata": {},
     "output_type": "execute_result"
    },
    {
     "data": {
      "image/png": "[encoded data removed]",
      "text/plain": [
       "<Figure size 640x480 with 1 Axes>"
      ]
     },
     "metadata": {},
     "output_type": "display_data"
    }
   ],
   "source": [
    "agrupado.plot.bar(color = 'gray')\n",
    "agrupado"
   ]
  },
  {
   "cell_type": "code",
   "execution_count": 337,
   "id": "e12aaa97-c839-47b4-af58-c7147562ae5c",
   "metadata": {},
   "outputs": [],
   "source": [
    "#concluímos nesse gráfico que a maioria dos casos de ataque cardíaco no Japão nessa base de dados não tem histórico de hipertensão"
   ]
  },
  {
   "cell_type": "code",
   "execution_count": 109,
   "id": "40efffd1-c127-4542-9e59-32babe7b9dea",
   "metadata": {},
   "outputs": [
    {
     "data": {
      "text/plain": [
       "atividade_física\n",
       "High         9091\n",
       "Low          8985\n",
       "Moderate    11924\n",
       "dtype: int64"
      ]
     },
     "execution_count": 109,
     "metadata": {},
     "output_type": "execute_result"
    }
   ],
   "source": [
    "#atividade física\n",
    "agrupado = dataset.groupby(['atividade_física']).size()\n",
    "agrupado"
   ]
  },
  {
   "cell_type": "code",
   "execution_count": 111,
   "id": "6449afa7-36f9-45de-bd8d-690719ea6ed4",
   "metadata": {},
   "outputs": [
    {
     "data": {
      "text/plain": [
       "atividade_física\n",
       "High         9091\n",
       "Low          8985\n",
       "Moderate    11924\n",
       "dtype: int64"
      ]
     },
     "execution_count": 111,
     "metadata": {},
     "output_type": "execute_result"
    },
    {
     "data": {
      "image/png": "[encoded data removed]",
      "text/plain": [
       "<Figure size 640x480 with 1 Axes>"
      ]
     },
     "metadata": {},
     "output_type": "display_data"
    }
   ],
   "source": [
    "agrupado.plot.bar(color = 'gray')\n",
    "agrupado"
   ]
  },
  {
   "cell_type": "code",
   "execution_count": 339,
   "id": "bb0ed4af-c49b-4432-84c2-db0309fccc36",
   "metadata": {},
   "outputs": [],
   "source": [
    "#concluímos nesse gráfico que a maioria dos casos de ataque cardíaco no Japão nessa base de dados que a maioria das pessoas tinha atividade física moderada."
   ]
  },
  {
   "cell_type": "code",
   "execution_count": 115,
   "id": "a4fdbb8f-10fa-4a84-a7b8-c51d5e0714d5",
   "metadata": {},
   "outputs": [
    {
     "data": {
      "text/plain": [
       "qualidade_da_dieta\n",
       "Average    11971\n",
       "Good       12006\n",
       "Poor        6023\n",
       "dtype: int64"
      ]
     },
     "execution_count": 115,
     "metadata": {},
     "output_type": "execute_result"
    }
   ],
   "source": [
    "#qualidade da dieta\n",
    "agrupado = dataset.groupby(['qualidade_da_dieta']).size()\n",
    "agrupado"
   ]
  },
  {
   "cell_type": "code",
   "execution_count": 117,
   "id": "36e0229e-4d46-47b3-a693-42972f959142",
   "metadata": {},
   "outputs": [
    {
     "data": {
      "text/plain": [
       "qualidade_da_dieta\n",
       "Average    11971\n",
       "Good       12006\n",
       "Poor        6023\n",
       "dtype: int64"
      ]
     },
     "execution_count": 117,
     "metadata": {},
     "output_type": "execute_result"
    },
    {
     "data": {
      "image/png": "[encoded data removed]",
      "text/plain": [
       "<Figure size 640x480 with 1 Axes>"
      ]
     },
     "metadata": {},
     "output_type": "display_data"
    }
   ],
   "source": [
    "agrupado.plot.bar(color = 'gray')\n",
    "agrupado"
   ]
  },
  {
   "cell_type": "code",
   "execution_count": 341,
   "id": "757d4658-1d43-400a-9792-28dfcccfc7bf",
   "metadata": {},
   "outputs": [],
   "source": [
    "#concluímos nesse gráfico que a maioria dos casos de ataque cardíaco no Japão nessa base de dados que a maioria das pessoas tinha  a qualidade de dieta boa e moderada."
   ]
  },
  {
   "cell_type": "code",
   "execution_count": 119,
   "id": "cf34cacc-b64e-446e-90b3-243022ec562c",
   "metadata": {},
   "outputs": [
    {
     "data": {
      "text/plain": [
       "consumo_de_álcool\n",
       "High         5828\n",
       "Low          9098\n",
       "Moderate    12059\n",
       "dtype: int64"
      ]
     },
     "execution_count": 119,
     "metadata": {},
     "output_type": "execute_result"
    }
   ],
   "source": [
    "#consumo de álcool\n",
    "agrupado = dataset.groupby(['consumo_de_álcool']).size()\n",
    "agrupado"
   ]
  },
  {
   "cell_type": "code",
   "execution_count": 123,
   "id": "d2376265-79a7-47ff-b3ef-3921d4f58453",
   "metadata": {},
   "outputs": [
    {
     "data": {
      "text/plain": [
       "consumo_de_álcool\n",
       "High         5828\n",
       "Low          9098\n",
       "Moderate    12059\n",
       "dtype: int64"
      ]
     },
     "execution_count": 123,
     "metadata": {},
     "output_type": "execute_result"
    },
    {
     "data": {
      "image/png": "[encoded data removed]",
      "text/plain": [
       "<Figure size 640x480 with 1 Axes>"
      ]
     },
     "metadata": {},
     "output_type": "display_data"
    }
   ],
   "source": [
    "agrupado.plot.bar(color = 'gray')\n",
    "agrupado"
   ]
  },
  {
   "cell_type": "code",
   "execution_count": 343,
   "id": "0827d0de-ba16-44a9-8236-e2880fe53a17",
   "metadata": {},
   "outputs": [],
   "source": [
    "#concluímos nesse gráfico que a maioria dos casos de ataque cardíaco no Japão nessa base de dados ocorre que o consumo de álcool é moderado."
   ]
  },
  {
   "cell_type": "code",
   "execution_count": 127,
   "id": "821cb506-aa0d-470b-aaf6-fbadc8fd4bbf",
   "metadata": {},
   "outputs": [
    {
     "data": {
      "text/plain": [
       "count    30000.000000\n",
       "mean        48.492300\n",
       "std         17.902913\n",
       "min         18.000000\n",
       "25%         33.000000\n",
       "50%         48.000000\n",
       "75%         64.000000\n",
       "max         79.000000\n",
       "Name: Idade, dtype: float64"
      ]
     },
     "execution_count": 127,
     "metadata": {},
     "output_type": "execute_result"
    }
   ],
   "source": [
    "#explorar colunas numéricas\n",
    "#idade\n",
    "dataset['Idade'].describe()"
   ]
  },
  {
   "cell_type": "code",
   "execution_count": 129,
   "id": "601632f3-fdad-4259-b22f-100e85feea7f",
   "metadata": {},
   "outputs": [
    {
     "data": {
      "text/plain": [
       "Text(0.5, 1.0, 'Idade')"
      ]
     },
     "execution_count": 129,
     "metadata": {},
     "output_type": "execute_result"
    },
    {
     "data": {
      "image/png": "[encoded data removed]",
      "text/plain": [
       "<Figure size 640x480 with 1 Axes>"
      ]
     },
     "metadata": {},
     "output_type": "display_data"
    }
   ],
   "source": [
    "srn.boxplot(dataset['Idade']).set_title('Idade')"
   ]
  },
  {
   "cell_type": "code",
   "execution_count": 345,
   "id": "ed5be024-be70-4ecd-8c63-1504d2afdbac",
   "metadata": {},
   "outputs": [],
   "source": [
    "#concluímos nesse gráfico que a maioria dos casos de ataque cardíaco no Japão nessa base de dados que as pessoas estão entre 32 a 65 anos."
   ]
  },
  {
   "cell_type": "code",
   "execution_count": 181,
   "id": "9f5b9643-efd7-4844-9e23-bc31769fe905",
   "metadata": {},
   "outputs": [
    {
     "data": {
      "text/plain": [
       "count    30000.000000\n",
       "mean       199.899752\n",
       "std         29.971334\n",
       "min         80.020033\n",
       "25%        179.551714\n",
       "50%        199.774394\n",
       "75%        220.160757\n",
       "max        336.863442\n",
       "Name: nível_de_colesterol, dtype: float64"
      ]
     },
     "execution_count": 181,
     "metadata": {},
     "output_type": "execute_result"
    }
   ],
   "source": [
    "#colesterol\n",
    "dataset['nível_de_colesterol'].describe() "
   ]
  },
  {
   "cell_type": "code",
   "execution_count": 183,
   "id": "c4e8b4ac-0fe0-4a7c-b0ba-82af7e7f0c38",
   "metadata": {},
   "outputs": [
    {
     "data": {
      "text/plain": [
       "Text(0.5, 1.0, 'nível_de_colesterol')"
      ]
     },
     "execution_count": 183,
     "metadata": {},
     "output_type": "execute_result"
    },
    {
     "data": {
      "image/png": "[encoded data removed]",
      "text/plain": [
       "<Figure size 640x480 with 1 Axes>"
      ]
     },
     "metadata": {},
     "output_type": "display_data"
    }
   ],
   "source": [
    "srn.boxplot(dataset['nível_de_colesterol']).set_title('nível_de_colesterol')"
   ]
  },
  {
   "cell_type": "code",
   "execution_count": 167,
   "id": "d11e5c21-9b12-47fa-a1ad-03d0f2e15e9f",
   "metadata": {},
   "outputs": [
    {
     "data": {
      "text/plain": [
       "Text(0.5, 1.0, 'nível_de_colesterol')"
      ]
     },
     "execution_count": 167,
     "metadata": {},
     "output_type": "execute_result"
    },
    {
     "data": {
      "image/png": "[encoded data removed]",
      "text/plain": [
       "<Figure size 640x480 with 1 Axes>"
      ]
     },
     "metadata": {},
     "output_type": "display_data"
    }
   ],
   "source": [
    "srn.histplot(dataset['nível_de_colesterol']).set_title('nível_de_colesterol')"
   ]
  },
  {
   "cell_type": "code",
   "execution_count": 347,
   "id": "57454712-1aaa-4618-a1ca-e9d609014c12",
   "metadata": {},
   "outputs": [],
   "source": [
    "#concluímos nesse gráfico que a maioria dos casos de ataque cardíaco no Japão nessa base de dados que o nível de colesterol está em 200 ou próximo, sendo assim um grande indicar de que o colesterol alto influencia no ataque cardíaco."
   ]
  },
  {
   "cell_type": "code",
   "execution_count": 271,
   "id": "7a52cf88-b977-44c2-b275-4ca394879502",
   "metadata": {},
   "outputs": [
    {
     "data": {
      "text/plain": [
       "Idade                             0\n",
       "sexo                          30000\n",
       "regiao                            0\n",
       "historia_de_tabagismo             0\n",
       "historia_de_diabetes              0\n",
       "história_de_hipertensao           0\n",
       "nível_de_colesterol               0\n",
       "atividade_física                  0\n",
       "qualidade_da_dieta                0\n",
       "consumo_de_álcool                 0\n",
       "niveis_de_estresse                0\n",
       "IMC                               0\n",
       "frequencia_cardiaca               0\n",
       "PA_sistolica                      0\n",
       "PA_diastolica                     0\n",
       "historia_familiar                 0\n",
       "ataque_cardiaco_ocorrência        0\n",
       "Coluna_Extra_1                    0\n",
       "Coluna_Extra_2                    0\n",
       "Coluna_Extra_3                    0\n",
       "Coluna_Extra_4                    0\n",
       "Coluna_Extra_5                    0\n",
       "Coluna_Extra_6                    0\n",
       "Coluna_Extra_7                    0\n",
       "Coluna_Extra_8                    0\n",
       "Coluna_Extra_9                    0\n",
       "Coluna_Extra_10                   0\n",
       "Coluna_Extra_11                   0\n",
       "Coluna_Extra_12                   0\n",
       "Coluna_Extra_13                   0\n",
       "Coluna_Extra_14                   0\n",
       "Coluna_Extra_15                   0\n",
       "dtype: int64"
      ]
     },
     "execution_count": 271,
     "metadata": {},
     "output_type": "execute_result"
    }
   ],
   "source": [
    "#contando valores NAN\n",
    "dataset.isnull().sum()"
   ]
  },
  {
   "cell_type": "code",
   "execution_count": 221,
   "id": "153e7fd7-dbe7-46a8-ae71-32bc19e21828",
   "metadata": {},
   "outputs": [
    {
     "data": {
      "text/plain": [
       "count        30000\n",
       "unique           3\n",
       "top       Moderate\n",
       "freq         13405\n",
       "Name: consumo_de_álcool, dtype: object"
      ]
     },
     "execution_count": 221,
     "metadata": {},
     "output_type": "execute_result"
    }
   ],
   "source": [
    "#remover NAN  \n",
    "# consumo de alcool\n",
    "dataset['consumo_de_álcool'].describe()"
   ]
  },
  {
   "cell_type": "code",
   "execution_count": 293,
   "id": "d6c13ffe-90bd-4813-b606-8963569a1d5e",
   "metadata": {},
   "outputs": [],
   "source": [
    "dataset['consumo_de_álcool']= dataset['consumo_de_álcool'].ffill()"
   ]
  },
  {
   "cell_type": "code",
   "execution_count": 295,
   "id": "62fa564f-6001-4c3a-bfa7-7df7c35fd69a",
   "metadata": {},
   "outputs": [
    {
     "data": {
      "text/plain": [
       "Idade                         0\n",
       "sexo                          0\n",
       "regiao                        0\n",
       "historia_de_tabagismo         0\n",
       "historia_de_diabetes          0\n",
       "história_de_hipertensao       0\n",
       "nível_de_colesterol           0\n",
       "atividade_física              0\n",
       "qualidade_da_dieta            0\n",
       "consumo_de_álcool             0\n",
       "niveis_de_estresse            0\n",
       "IMC                           0\n",
       "frequencia_cardiaca           0\n",
       "PA_sistolica                  0\n",
       "PA_diastolica                 0\n",
       "historia_familiar             0\n",
       "ataque_cardiaco_ocorrência    0\n",
       "Coluna_Extra_1                0\n",
       "Coluna_Extra_2                0\n",
       "Coluna_Extra_3                0\n",
       "Coluna_Extra_4                0\n",
       "Coluna_Extra_5                0\n",
       "Coluna_Extra_6                0\n",
       "Coluna_Extra_7                0\n",
       "Coluna_Extra_8                0\n",
       "Coluna_Extra_9                0\n",
       "Coluna_Extra_10               0\n",
       "Coluna_Extra_11               0\n",
       "Coluna_Extra_12               0\n",
       "Coluna_Extra_13               0\n",
       "Coluna_Extra_14               0\n",
       "Coluna_Extra_15               0\n",
       "dtype: int64"
      ]
     },
     "execution_count": 295,
     "metadata": {},
     "output_type": "execute_result"
    }
   ],
   "source": [
    "#verificando os NAN novamente\n",
    "dataset.isnull().sum()"
   ]
  },
  {
   "cell_type": "code",
   "execution_count": 297,
   "id": "f44858e3-eb1a-49ed-a2d0-83a67a6d349a",
   "metadata": {},
   "outputs": [
    {
     "data": {
      "text/plain": [
       "sexo\n",
       "Female    14933\n",
       "Male      15067\n",
       "dtype: int64"
      ]
     },
     "execution_count": 297,
     "metadata": {},
     "output_type": "execute_result"
    }
   ],
   "source": [
    "#verificando padronização do 'sexo'\n",
    "agrupado = dataset.groupby(['sexo']).size()\n",
    "agrupado"
   ]
  },
  {
   "cell_type": "code",
   "execution_count": 309,
   "id": "eb0fb243-06f7-4b1e-92fb-36dddd94b457",
   "metadata": {},
   "outputs": [],
   "source": [
    "import matplotlib\n",
    "import matplotlib.pyplot as plt\n",
    "%matplotlib inline\n",
    "srn.set_style('darkgrid')\n",
    "matplotlib.rcParams['font.size'] = 14\n",
    "matplotlib.rcParams['figure.figsize'] = (9, 5)\n",
    "matplotlib.rcParams['figure.facecolor'] = '#00000000'"
   ]
  },
  {
   "cell_type": "code",
   "execution_count": 311,
   "id": "01b1f3ee-e399-464a-8280-c6fc1f3103a0",
   "metadata": {},
   "outputs": [],
   "source": [
    "#criar o encoder e aplica oneHotEncoder transformando strings para números.\n",
    "lb = LabelEncoder()\n",
    "\n",
    "for var in ['sexo', 'regiao', 'historia_de_tabagismo', 'historia_de_diabetes', 'história_de_hipertensao', 'atividade_física', 'qualidade_da_dieta', 'consumo_de_álcool' ]:\n",
    "        dataset[var] = lb.fit_transform(dataset[var])"
   ]
  },
  {
   "cell_type": "code",
   "execution_count": 313,
   "id": "a4910dd1-0f93-4569-831c-6344ede36577",
   "metadata": {},
   "outputs": [
    {
     "data": {
      "text/html": [
       "<div>\n",
       "<style scoped>\n",
       "    .dataframe tbody tr th:only-of-type {\n",
       "        vertical-align: middle;\n",
       "    }\n",
       "\n",
       "    .dataframe tbody tr th {\n",
       "        vertical-align: top;\n",
       "    }\n",
       "\n",
       "    .dataframe thead th {\n",
       "        text-align: right;\n",
       "    }\n",
       "</style>\n",
       "<table border=\"1\" class=\"dataframe\">\n",
       "  <thead>\n",
       "    <tr style=\"text-align: right;\">\n",
       "      <th></th>\n",
       "      <th>Idade</th>\n",
       "      <th>sexo</th>\n",
       "      <th>regiao</th>\n",
       "      <th>historia_de_tabagismo</th>\n",
       "      <th>historia_de_diabetes</th>\n",
       "      <th>história_de_hipertensao</th>\n",
       "      <th>nível_de_colesterol</th>\n",
       "      <th>atividade_física</th>\n",
       "      <th>qualidade_da_dieta</th>\n",
       "      <th>consumo_de_álcool</th>\n",
       "      <th>...</th>\n",
       "      <th>Coluna_Extra_6</th>\n",
       "      <th>Coluna_Extra_7</th>\n",
       "      <th>Coluna_Extra_8</th>\n",
       "      <th>Coluna_Extra_9</th>\n",
       "      <th>Coluna_Extra_10</th>\n",
       "      <th>Coluna_Extra_11</th>\n",
       "      <th>Coluna_Extra_12</th>\n",
       "      <th>Coluna_Extra_13</th>\n",
       "      <th>Coluna_Extra_14</th>\n",
       "      <th>Coluna_Extra_15</th>\n",
       "    </tr>\n",
       "  </thead>\n",
       "  <tbody>\n",
       "    <tr>\n",
       "      <th>0</th>\n",
       "      <td>56</td>\n",
       "      <td>1</td>\n",
       "      <td>1</td>\n",
       "      <td>1</td>\n",
       "      <td>0</td>\n",
       "      <td>0</td>\n",
       "      <td>186.400209</td>\n",
       "      <td>2</td>\n",
       "      <td>2</td>\n",
       "      <td>1</td>\n",
       "      <td>...</td>\n",
       "      <td>0.007901</td>\n",
       "      <td>0.794583</td>\n",
       "      <td>0.290779</td>\n",
       "      <td>0.497193</td>\n",
       "      <td>0.521995</td>\n",
       "      <td>0.799657</td>\n",
       "      <td>0.722398</td>\n",
       "      <td>0.148739</td>\n",
       "      <td>0.834010</td>\n",
       "      <td>0.061632</td>\n",
       "    </tr>\n",
       "    <tr>\n",
       "      <th>1</th>\n",
       "      <td>69</td>\n",
       "      <td>1</td>\n",
       "      <td>1</td>\n",
       "      <td>0</td>\n",
       "      <td>0</td>\n",
       "      <td>0</td>\n",
       "      <td>185.136747</td>\n",
       "      <td>1</td>\n",
       "      <td>1</td>\n",
       "      <td>1</td>\n",
       "      <td>...</td>\n",
       "      <td>0.083933</td>\n",
       "      <td>0.688951</td>\n",
       "      <td>0.830164</td>\n",
       "      <td>0.634490</td>\n",
       "      <td>0.302043</td>\n",
       "      <td>0.043683</td>\n",
       "      <td>0.451668</td>\n",
       "      <td>0.878671</td>\n",
       "      <td>0.535602</td>\n",
       "      <td>0.617825</td>\n",
       "    </tr>\n",
       "    <tr>\n",
       "      <th>2</th>\n",
       "      <td>46</td>\n",
       "      <td>1</td>\n",
       "      <td>0</td>\n",
       "      <td>1</td>\n",
       "      <td>0</td>\n",
       "      <td>0</td>\n",
       "      <td>210.696611</td>\n",
       "      <td>1</td>\n",
       "      <td>0</td>\n",
       "      <td>2</td>\n",
       "      <td>...</td>\n",
       "      <td>0.227205</td>\n",
       "      <td>0.496344</td>\n",
       "      <td>0.752107</td>\n",
       "      <td>0.181501</td>\n",
       "      <td>0.629180</td>\n",
       "      <td>0.018276</td>\n",
       "      <td>0.063227</td>\n",
       "      <td>0.146512</td>\n",
       "      <td>0.997296</td>\n",
       "      <td>0.974455</td>\n",
       "    </tr>\n",
       "    <tr>\n",
       "      <th>3</th>\n",
       "      <td>32</td>\n",
       "      <td>0</td>\n",
       "      <td>1</td>\n",
       "      <td>0</td>\n",
       "      <td>0</td>\n",
       "      <td>0</td>\n",
       "      <td>211.165478</td>\n",
       "      <td>2</td>\n",
       "      <td>1</td>\n",
       "      <td>0</td>\n",
       "      <td>...</td>\n",
       "      <td>0.403182</td>\n",
       "      <td>0.741409</td>\n",
       "      <td>0.223968</td>\n",
       "      <td>0.329314</td>\n",
       "      <td>0.143191</td>\n",
       "      <td>0.907781</td>\n",
       "      <td>0.542322</td>\n",
       "      <td>0.922461</td>\n",
       "      <td>0.626217</td>\n",
       "      <td>0.228606</td>\n",
       "    </tr>\n",
       "    <tr>\n",
       "      <th>4</th>\n",
       "      <td>60</td>\n",
       "      <td>0</td>\n",
       "      <td>0</td>\n",
       "      <td>0</td>\n",
       "      <td>0</td>\n",
       "      <td>0</td>\n",
       "      <td>223.814253</td>\n",
       "      <td>0</td>\n",
       "      <td>1</td>\n",
       "      <td>0</td>\n",
       "      <td>...</td>\n",
       "      <td>0.689787</td>\n",
       "      <td>0.904574</td>\n",
       "      <td>0.757098</td>\n",
       "      <td>0.337761</td>\n",
       "      <td>0.362375</td>\n",
       "      <td>0.728552</td>\n",
       "      <td>0.176699</td>\n",
       "      <td>0.484749</td>\n",
       "      <td>0.312091</td>\n",
       "      <td>0.452809</td>\n",
       "    </tr>\n",
       "    <tr>\n",
       "      <th>5</th>\n",
       "      <td>25</td>\n",
       "      <td>0</td>\n",
       "      <td>0</td>\n",
       "      <td>0</td>\n",
       "      <td>0</td>\n",
       "      <td>0</td>\n",
       "      <td>220.340040</td>\n",
       "      <td>1</td>\n",
       "      <td>1</td>\n",
       "      <td>0</td>\n",
       "      <td>...</td>\n",
       "      <td>0.448359</td>\n",
       "      <td>0.369056</td>\n",
       "      <td>0.195817</td>\n",
       "      <td>0.395948</td>\n",
       "      <td>0.835430</td>\n",
       "      <td>0.003596</td>\n",
       "      <td>0.941448</td>\n",
       "      <td>0.875736</td>\n",
       "      <td>0.718697</td>\n",
       "      <td>0.008745</td>\n",
       "    </tr>\n",
       "    <tr>\n",
       "      <th>6</th>\n",
       "      <td>78</td>\n",
       "      <td>1</td>\n",
       "      <td>1</td>\n",
       "      <td>0</td>\n",
       "      <td>1</td>\n",
       "      <td>1</td>\n",
       "      <td>176.534859</td>\n",
       "      <td>0</td>\n",
       "      <td>2</td>\n",
       "      <td>0</td>\n",
       "      <td>...</td>\n",
       "      <td>0.662466</td>\n",
       "      <td>0.708291</td>\n",
       "      <td>0.120272</td>\n",
       "      <td>0.072657</td>\n",
       "      <td>0.342915</td>\n",
       "      <td>0.070717</td>\n",
       "      <td>0.328066</td>\n",
       "      <td>0.706978</td>\n",
       "      <td>0.370973</td>\n",
       "      <td>0.128143</td>\n",
       "    </tr>\n",
       "    <tr>\n",
       "      <th>7</th>\n",
       "      <td>38</td>\n",
       "      <td>0</td>\n",
       "      <td>1</td>\n",
       "      <td>1</td>\n",
       "      <td>0</td>\n",
       "      <td>0</td>\n",
       "      <td>203.443219</td>\n",
       "      <td>0</td>\n",
       "      <td>2</td>\n",
       "      <td>0</td>\n",
       "      <td>...</td>\n",
       "      <td>0.771378</td>\n",
       "      <td>0.877390</td>\n",
       "      <td>0.659746</td>\n",
       "      <td>0.261927</td>\n",
       "      <td>0.432525</td>\n",
       "      <td>0.873889</td>\n",
       "      <td>0.729492</td>\n",
       "      <td>0.137948</td>\n",
       "      <td>0.116143</td>\n",
       "      <td>0.036758</td>\n",
       "    </tr>\n",
       "    <tr>\n",
       "      <th>8</th>\n",
       "      <td>56</td>\n",
       "      <td>1</td>\n",
       "      <td>0</td>\n",
       "      <td>0</td>\n",
       "      <td>0</td>\n",
       "      <td>1</td>\n",
       "      <td>214.271573</td>\n",
       "      <td>2</td>\n",
       "      <td>0</td>\n",
       "      <td>2</td>\n",
       "      <td>...</td>\n",
       "      <td>0.075977</td>\n",
       "      <td>0.200385</td>\n",
       "      <td>0.457953</td>\n",
       "      <td>0.260502</td>\n",
       "      <td>0.359755</td>\n",
       "      <td>0.224467</td>\n",
       "      <td>0.753343</td>\n",
       "      <td>0.238852</td>\n",
       "      <td>0.463294</td>\n",
       "      <td>0.866367</td>\n",
       "    </tr>\n",
       "    <tr>\n",
       "      <th>9</th>\n",
       "      <td>75</td>\n",
       "      <td>1</td>\n",
       "      <td>1</td>\n",
       "      <td>0</td>\n",
       "      <td>0</td>\n",
       "      <td>0</td>\n",
       "      <td>183.983885</td>\n",
       "      <td>2</td>\n",
       "      <td>1</td>\n",
       "      <td>2</td>\n",
       "      <td>...</td>\n",
       "      <td>0.562768</td>\n",
       "      <td>0.013282</td>\n",
       "      <td>0.084734</td>\n",
       "      <td>0.836812</td>\n",
       "      <td>0.550383</td>\n",
       "      <td>0.271020</td>\n",
       "      <td>0.565794</td>\n",
       "      <td>0.159043</td>\n",
       "      <td>0.701713</td>\n",
       "      <td>0.223031</td>\n",
       "    </tr>\n",
       "  </tbody>\n",
       "</table>\n",
       "<p>10 rows × 32 columns</p>\n",
       "</div>"
      ],
      "text/plain": [
       "   Idade  sexo  regiao  historia_de_tabagismo  historia_de_diabetes  \\\n",
       "0     56     1       1                      1                     0   \n",
       "1     69     1       1                      0                     0   \n",
       "2     46     1       0                      1                     0   \n",
       "3     32     0       1                      0                     0   \n",
       "4     60     0       0                      0                     0   \n",
       "5     25     0       0                      0                     0   \n",
       "6     78     1       1                      0                     1   \n",
       "7     38     0       1                      1                     0   \n",
       "8     56     1       0                      0                     0   \n",
       "9     75     1       1                      0                     0   \n",
       "\n",
       "   história_de_hipertensao  nível_de_colesterol  atividade_física  \\\n",
       "0                        0           186.400209                 2   \n",
       "1                        0           185.136747                 1   \n",
       "2                        0           210.696611                 1   \n",
       "3                        0           211.165478                 2   \n",
       "4                        0           223.814253                 0   \n",
       "5                        0           220.340040                 1   \n",
       "6                        1           176.534859                 0   \n",
       "7                        0           203.443219                 0   \n",
       "8                        1           214.271573                 2   \n",
       "9                        0           183.983885                 2   \n",
       "\n",
       "   qualidade_da_dieta  consumo_de_álcool  ...  Coluna_Extra_6  Coluna_Extra_7  \\\n",
       "0                   2                  1  ...        0.007901        0.794583   \n",
       "1                   1                  1  ...        0.083933        0.688951   \n",
       "2                   0                  2  ...        0.227205        0.496344   \n",
       "3                   1                  0  ...        0.403182        0.741409   \n",
       "4                   1                  0  ...        0.689787        0.904574   \n",
       "5                   1                  0  ...        0.448359        0.369056   \n",
       "6                   2                  0  ...        0.662466        0.708291   \n",
       "7                   2                  0  ...        0.771378        0.877390   \n",
       "8                   0                  2  ...        0.075977        0.200385   \n",
       "9                   1                  2  ...        0.562768        0.013282   \n",
       "\n",
       "   Coluna_Extra_8  Coluna_Extra_9  Coluna_Extra_10 Coluna_Extra_11  \\\n",
       "0        0.290779        0.497193         0.521995        0.799657   \n",
       "1        0.830164        0.634490         0.302043        0.043683   \n",
       "2        0.752107        0.181501         0.629180        0.018276   \n",
       "3        0.223968        0.329314         0.143191        0.907781   \n",
       "4        0.757098        0.337761         0.362375        0.728552   \n",
       "5        0.195817        0.395948         0.835430        0.003596   \n",
       "6        0.120272        0.072657         0.342915        0.070717   \n",
       "7        0.659746        0.261927         0.432525        0.873889   \n",
       "8        0.457953        0.260502         0.359755        0.224467   \n",
       "9        0.084734        0.836812         0.550383        0.271020   \n",
       "\n",
       "  Coluna_Extra_12  Coluna_Extra_13  Coluna_Extra_14  Coluna_Extra_15  \n",
       "0        0.722398         0.148739         0.834010         0.061632  \n",
       "1        0.451668         0.878671         0.535602         0.617825  \n",
       "2        0.063227         0.146512         0.997296         0.974455  \n",
       "3        0.542322         0.922461         0.626217         0.228606  \n",
       "4        0.176699         0.484749         0.312091         0.452809  \n",
       "5        0.941448         0.875736         0.718697         0.008745  \n",
       "6        0.328066         0.706978         0.370973         0.128143  \n",
       "7        0.729492         0.137948         0.116143         0.036758  \n",
       "8        0.753343         0.238852         0.463294         0.866367  \n",
       "9        0.565794         0.159043         0.701713         0.223031  \n",
       "\n",
       "[10 rows x 32 columns]"
      ]
     },
     "execution_count": 313,
     "metadata": {},
     "output_type": "execute_result"
    }
   ],
   "source": [
    "dataset.head(10)"
   ]
  },
  {
   "cell_type": "code",
   "execution_count": 19,
   "id": "6b4f3bf6-4266-448f-98fc-055fc735908a",
   "metadata": {},
   "outputs": [
    {
     "data": {
      "image/png": "[encoded data removed]",
      "text/plain": [
       "<Figure size 1200x900 with 2 Axes>"
      ]
     },
     "metadata": {},
     "output_type": "display_data"
    }
   ],
   "source": [
    "#criando lista para mapa de calor que mostra a correlação entre as variáveis correlacionando maior chance de serem duas variáveis relacionadas, mas não necessariamente.\n",
    "list_dataset = ['Idade',\t'sexo',\t'regiao',\t'historia_de_tabagismo',\t'historia_de_diabetes',\t'história_de_hipertensao',\t'nível_de_colesterol', 'atividade_física',\t'qualidade_da_dieta',\t'consumo_de_álcool' ]\n",
    "#transoformando colunas categóricas em números\n",
    "for col in list_dataset:\n",
    "    dataset[col] = pd.factorize(dataset[col])[0]\n",
    "#obtendo a matrix e correlação\n",
    "corrmat = dataset[list_dataset].corr()\n",
    "#configurando o tamanho\n",
    "fig = plt.figure(figsize= (12, 9))\n",
    "#mascarando a parte superior do triângulo sendo que a matriz é simétrica\n",
    "mask = np.triu(np.ones_like(corrmat, dtype=bool))\n",
    "srn.heatmap(corrmat, vmax = .8, mask = mask, square = True, annot = True)\n",
    "plt.show()\n"
   ]
  },
  {
   "cell_type": "code",
   "execution_count": 9,
   "id": "3455e60d-7ab4-45f1-b787-63b3625ac470",
   "metadata": {},
   "outputs": [
    {
     "data": {
      "image/png": "[encoded data removed]",
      "text/plain": [
       "<Figure size 640x480 with 1 Axes>"
      ]
     },
     "metadata": {},
     "output_type": "display_data"
    },
    {
     "data": {
      "text/plain": [
       "<Figure size 1000x700 with 0 Axes>"
      ]
     },
     "metadata": {},
     "output_type": "display_data"
    }
   ],
   "source": [
    "srn.histplot(dataset.iloc[:,0], kde=False, bins=6, color='blue').set(title='Idade')\n",
    "fig = plt.figure(figsize= (10, 7))\n"
   ]
  }
 ],
 "metadata": {
  "kernelspec": {
   "display_name": "base",
   "language": "python",
   "name": "python3"
  },
  "language_info": {
   "codemirror_mode": {
    "name": "ipython",
    "version": 3
   },
   "file_extension": ".py",
   "mimetype": "text/x-python",
   "name": "python",
   "nbconvert_exporter": "python",
   "pygments_lexer": "ipython3",
   "version": "3.13.5"
  }
 },
 "nbformat": 4,
 "nbformat_minor": 5
}
